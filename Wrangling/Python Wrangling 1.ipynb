{
 "cells": [
  {
   "cell_type": "code",
   "execution_count": 1,
   "metadata": {},
   "outputs": [],
   "source": [
    "import gzip\n",
    "import pandas as pd\n",
    "import numpy as np"
   ]
  },
  {
   "cell_type": "code",
   "execution_count": 2,
   "metadata": {},
   "outputs": [],
   "source": [
    "df = pd.read_csv('chicago-complete.weekly.2019-02-04-to-2019-02-10/data.csv.gz', compression='gzip')"
   ]
  },
  {
   "cell_type": "code",
   "execution_count": 3,
   "metadata": {},
   "outputs": [
    {
     "data": {
      "text/html": [
       "<div>\n",
       "<style scoped>\n",
       "    .dataframe tbody tr th:only-of-type {\n",
       "        vertical-align: middle;\n",
       "    }\n",
       "\n",
       "    .dataframe tbody tr th {\n",
       "        vertical-align: top;\n",
       "    }\n",
       "\n",
       "    .dataframe thead th {\n",
       "        text-align: right;\n",
       "    }\n",
       "</style>\n",
       "<table border=\"1\" class=\"dataframe\">\n",
       "  <thead>\n",
       "    <tr style=\"text-align: right;\">\n",
       "      <th></th>\n",
       "      <th>timestamp</th>\n",
       "      <th>node_id</th>\n",
       "      <th>subsystem</th>\n",
       "      <th>sensor</th>\n",
       "      <th>parameter</th>\n",
       "      <th>value_raw</th>\n",
       "      <th>value_hrf</th>\n",
       "    </tr>\n",
       "  </thead>\n",
       "  <tbody>\n",
       "    <tr>\n",
       "      <th>28330972</th>\n",
       "      <td>2019/02/10 23:59:58</td>\n",
       "      <td>001e0610f703</td>\n",
       "      <td>metsense</td>\n",
       "      <td>pr103j2</td>\n",
       "      <td>temperature</td>\n",
       "      <td>581</td>\n",
       "      <td>-1.8</td>\n",
       "    </tr>\n",
       "    <tr>\n",
       "      <th>28330973</th>\n",
       "      <td>2019/02/10 23:59:58</td>\n",
       "      <td>001e0610f703</td>\n",
       "      <td>metsense</td>\n",
       "      <td>spv1840lr5h_b</td>\n",
       "      <td>intensity</td>\n",
       "      <td>NaN</td>\n",
       "      <td>62.74</td>\n",
       "    </tr>\n",
       "    <tr>\n",
       "      <th>28330974</th>\n",
       "      <td>2019/02/10 23:59:58</td>\n",
       "      <td>001e0610f703</td>\n",
       "      <td>metsense</td>\n",
       "      <td>tmp112</td>\n",
       "      <td>temperature</td>\n",
       "      <td>65425</td>\n",
       "      <td>-254.81</td>\n",
       "    </tr>\n",
       "    <tr>\n",
       "      <th>28330975</th>\n",
       "      <td>2019/02/10 23:59:58</td>\n",
       "      <td>001e0610f703</td>\n",
       "      <td>metsense</td>\n",
       "      <td>tsl250rd</td>\n",
       "      <td>intensity</td>\n",
       "      <td>7</td>\n",
       "      <td>0.352</td>\n",
       "    </tr>\n",
       "    <tr>\n",
       "      <th>28330976</th>\n",
       "      <td>2019/02/10 23:59:58</td>\n",
       "      <td>001e0610f703</td>\n",
       "      <td>metsense</td>\n",
       "      <td>tsys01</td>\n",
       "      <td>temperature</td>\n",
       "      <td>9043376</td>\n",
       "      <td>-1.38</td>\n",
       "    </tr>\n",
       "  </tbody>\n",
       "</table>\n",
       "</div>"
      ],
      "text/plain": [
       "                    timestamp       node_id subsystem         sensor  \\\n",
       "28330972  2019/02/10 23:59:58  001e0610f703  metsense        pr103j2   \n",
       "28330973  2019/02/10 23:59:58  001e0610f703  metsense  spv1840lr5h_b   \n",
       "28330974  2019/02/10 23:59:58  001e0610f703  metsense         tmp112   \n",
       "28330975  2019/02/10 23:59:58  001e0610f703  metsense       tsl250rd   \n",
       "28330976  2019/02/10 23:59:58  001e0610f703  metsense         tsys01   \n",
       "\n",
       "            parameter value_raw value_hrf  \n",
       "28330972  temperature       581      -1.8  \n",
       "28330973    intensity       NaN     62.74  \n",
       "28330974  temperature     65425   -254.81  \n",
       "28330975    intensity         7     0.352  \n",
       "28330976  temperature   9043376     -1.38  "
      ]
     },
     "execution_count": 3,
     "metadata": {},
     "output_type": "execute_result"
    }
   ],
   "source": [
    "df.tail()"
   ]
  },
  {
   "cell_type": "code",
   "execution_count": 4,
   "metadata": {},
   "outputs": [
    {
     "data": {
      "text/html": [
       "<div>\n",
       "<style scoped>\n",
       "    .dataframe tbody tr th:only-of-type {\n",
       "        vertical-align: middle;\n",
       "    }\n",
       "\n",
       "    .dataframe tbody tr th {\n",
       "        vertical-align: top;\n",
       "    }\n",
       "\n",
       "    .dataframe thead th {\n",
       "        text-align: right;\n",
       "    }\n",
       "</style>\n",
       "<table border=\"1\" class=\"dataframe\">\n",
       "  <thead>\n",
       "    <tr style=\"text-align: right;\">\n",
       "      <th></th>\n",
       "      <th>timestamp</th>\n",
       "      <th>node_id</th>\n",
       "      <th>subsystem</th>\n",
       "      <th>sensor</th>\n",
       "      <th>parameter</th>\n",
       "      <th>value_raw</th>\n",
       "      <th>value_hrf</th>\n",
       "    </tr>\n",
       "  </thead>\n",
       "  <tbody>\n",
       "    <tr>\n",
       "      <th>count</th>\n",
       "      <td>28330977</td>\n",
       "      <td>28330977</td>\n",
       "      <td>28330977</td>\n",
       "      <td>28330977</td>\n",
       "      <td>28330977</td>\n",
       "      <td>26181597</td>\n",
       "      <td>26340186</td>\n",
       "    </tr>\n",
       "    <tr>\n",
       "      <th>unique</th>\n",
       "      <td>469280</td>\n",
       "      <td>41</td>\n",
       "      <td>8</td>\n",
       "      <td>54</td>\n",
       "      <td>59</td>\n",
       "      <td>861507</td>\n",
       "      <td>868629</td>\n",
       "    </tr>\n",
       "    <tr>\n",
       "      <th>top</th>\n",
       "      <td>2019/02/07 18:16:33</td>\n",
       "      <td>001e06113107</td>\n",
       "      <td>metsense</td>\n",
       "      <td>mma8452q</td>\n",
       "      <td>temperature</td>\n",
       "      <td>65535</td>\n",
       "      <td>-0.977</td>\n",
       "    </tr>\n",
       "    <tr>\n",
       "      <th>freq</th>\n",
       "      <td>336</td>\n",
       "      <td>1084474</td>\n",
       "      <td>11724097</td>\n",
       "      <td>2238159</td>\n",
       "      <td>7952779</td>\n",
       "      <td>3771481</td>\n",
       "      <td>671515</td>\n",
       "    </tr>\n",
       "  </tbody>\n",
       "</table>\n",
       "</div>"
      ],
      "text/plain": [
       "                  timestamp       node_id subsystem    sensor    parameter  \\\n",
       "count              28330977      28330977  28330977  28330977     28330977   \n",
       "unique               469280            41         8        54           59   \n",
       "top     2019/02/07 18:16:33  001e06113107  metsense  mma8452q  temperature   \n",
       "freq                    336       1084474  11724097   2238159      7952779   \n",
       "\n",
       "       value_raw value_hrf  \n",
       "count   26181597  26340186  \n",
       "unique    861507    868629  \n",
       "top        65535    -0.977  \n",
       "freq     3771481    671515  "
      ]
     },
     "execution_count": 4,
     "metadata": {},
     "output_type": "execute_result"
    }
   ],
   "source": [
    "df.describe()"
   ]
  },
  {
   "cell_type": "code",
   "execution_count": 5,
   "metadata": {},
   "outputs": [
    {
     "data": {
      "text/plain": [
       "(28330977, 7)"
      ]
     },
     "execution_count": 5,
     "metadata": {},
     "output_type": "execute_result"
    }
   ],
   "source": [
    "df.shape"
   ]
  },
  {
   "cell_type": "code",
   "execution_count": 7,
   "metadata": {},
   "outputs": [],
   "source": [
    "sensors = pd.read_csv(\"chicago-complete.weekly.2019-02-04-to-2019-02-10/sensors.csv\")"
   ]
  },
  {
   "cell_type": "markdown",
   "metadata": {},
   "source": [
    "### Filtering out based on required parameters and attributes."
   ]
  },
  {
   "cell_type": "code",
   "execution_count": 8,
   "metadata": {},
   "outputs": [
    {
     "data": {
      "text/plain": [
       "array(['alphasense', 'coresense', 'modem', 'wagman', 'load_1', 'load_10',\n",
       "       'load_5', 'free', 'total', 'rx', 'tx', 'state', 'substate',\n",
       "       'uptime', 'idletime', 'intensity', 'humidity', 'temperature',\n",
       "       'pressure', 'id', 'magnetic_field_x', 'magnetic_field_y',\n",
       "       'magnetic_field_z', 'acceleration_x', 'acceleration_y',\n",
       "       'acceleration_z', 'concentration', 'ir_intensity', 'uv_intensity',\n",
       "       'visible_light_intensity', 'fw', 'bins', 'pm1', 'pm10', 'pm2_5',\n",
       "       'sample_flow_rate', 'sampling_period', 'bottom_camera',\n",
       "       'microphone', 'top_camera', 'used', 'current', 'other', 'count',\n",
       "       'flags', 'cs', 'ep', 'nc', 'commit', 'major', 'minor', 'patch',\n",
       "       'battery', 'brainplate', 'ep_heatsink', 'nc_heatsink',\n",
       "       'powersupply', 'car_total', 'person_total'], dtype=object)"
      ]
     },
     "execution_count": 8,
     "metadata": {},
     "output_type": "execute_result"
    }
   ],
   "source": [
    "df['parameter'].unique()"
   ]
  },
  {
   "cell_type": "code",
   "execution_count": 9,
   "metadata": {},
   "outputs": [],
   "source": [
    "req_para = ['intensity', 'humidity', 'temperature',\n",
    "       'pressure', 'magnetic_field_x', 'magnetic_field_y',\n",
    "       'magnetic_field_z', 'acceleration_x', 'acceleration_y',\n",
    "       'acceleration_z', 'concentration', 'ir_intensity', 'uv_intensity',\n",
    "       'visible_light_intensity', 'pm1', 'pm10', 'pm2_5',\n",
    "       'car_total', 'person_total']"
   ]
  },
  {
   "cell_type": "code",
   "execution_count": 10,
   "metadata": {},
   "outputs": [],
   "source": [
    "df = df[df['parameter'].isin(req_para)]"
   ]
  },
  {
   "cell_type": "code",
   "execution_count": 11,
   "metadata": {},
   "outputs": [],
   "source": [
    "df.drop(columns = 'value_raw', inplace = True)"
   ]
  },
  {
   "cell_type": "code",
   "execution_count": null,
   "metadata": {},
   "outputs": [],
   "source": [
    "df['sensor'].unique()"
   ]
  },
  {
   "cell_type": "code",
   "execution_count": 13,
   "metadata": {},
   "outputs": [],
   "source": [
    "sensors = sensors[sensors['sensor'].isin(list(df['sensor'].unique()))]\n",
    "sensors = sensors[sensors['parameter'].isin(list(df['parameter'].unique()))]"
   ]
  },
  {
   "cell_type": "code",
   "execution_count": 14,
   "metadata": {},
   "outputs": [
    {
     "data": {
      "text/html": [
       "<div>\n",
       "<style scoped>\n",
       "    .dataframe tbody tr th:only-of-type {\n",
       "        vertical-align: middle;\n",
       "    }\n",
       "\n",
       "    .dataframe tbody tr th {\n",
       "        vertical-align: top;\n",
       "    }\n",
       "\n",
       "    .dataframe thead th {\n",
       "        text-align: right;\n",
       "    }\n",
       "</style>\n",
       "<table border=\"1\" class=\"dataframe\">\n",
       "  <thead>\n",
       "    <tr style=\"text-align: right;\">\n",
       "      <th></th>\n",
       "      <th>timestamp</th>\n",
       "      <th>node_id</th>\n",
       "      <th>subsystem</th>\n",
       "      <th>sensor</th>\n",
       "      <th>parameter</th>\n",
       "      <th>value_hrf</th>\n",
       "    </tr>\n",
       "  </thead>\n",
       "  <tbody>\n",
       "    <tr>\n",
       "      <th>18</th>\n",
       "      <td>2019/02/04 00:00:01</td>\n",
       "      <td>001e0610e532</td>\n",
       "      <td>lightsense</td>\n",
       "      <td>apds_9006_020</td>\n",
       "      <td>intensity</td>\n",
       "      <td>0.241</td>\n",
       "    </tr>\n",
       "    <tr>\n",
       "      <th>19</th>\n",
       "      <td>2019/02/04 00:00:01</td>\n",
       "      <td>001e0610e532</td>\n",
       "      <td>lightsense</td>\n",
       "      <td>hih6130</td>\n",
       "      <td>humidity</td>\n",
       "      <td>41.09</td>\n",
       "    </tr>\n",
       "    <tr>\n",
       "      <th>20</th>\n",
       "      <td>2019/02/04 00:00:01</td>\n",
       "      <td>001e0610e532</td>\n",
       "      <td>lightsense</td>\n",
       "      <td>hih6130</td>\n",
       "      <td>temperature</td>\n",
       "      <td>26.19</td>\n",
       "    </tr>\n",
       "    <tr>\n",
       "      <th>21</th>\n",
       "      <td>2019/02/04 00:00:01</td>\n",
       "      <td>001e0610e532</td>\n",
       "      <td>lightsense</td>\n",
       "      <td>ml8511</td>\n",
       "      <td>intensity</td>\n",
       "      <td>43.638</td>\n",
       "    </tr>\n",
       "    <tr>\n",
       "      <th>22</th>\n",
       "      <td>2019/02/04 00:00:01</td>\n",
       "      <td>001e0610e532</td>\n",
       "      <td>lightsense</td>\n",
       "      <td>mlx75305</td>\n",
       "      <td>intensity</td>\n",
       "      <td>2.032</td>\n",
       "    </tr>\n",
       "  </tbody>\n",
       "</table>\n",
       "</div>"
      ],
      "text/plain": [
       "              timestamp       node_id   subsystem         sensor    parameter  \\\n",
       "18  2019/02/04 00:00:01  001e0610e532  lightsense  apds_9006_020    intensity   \n",
       "19  2019/02/04 00:00:01  001e0610e532  lightsense        hih6130     humidity   \n",
       "20  2019/02/04 00:00:01  001e0610e532  lightsense        hih6130  temperature   \n",
       "21  2019/02/04 00:00:01  001e0610e532  lightsense         ml8511    intensity   \n",
       "22  2019/02/04 00:00:01  001e0610e532  lightsense       mlx75305    intensity   \n",
       "\n",
       "   value_hrf  \n",
       "18     0.241  \n",
       "19     41.09  \n",
       "20     26.19  \n",
       "21    43.638  \n",
       "22     2.032  "
      ]
     },
     "execution_count": 14,
     "metadata": {},
     "output_type": "execute_result"
    }
   ],
   "source": [
    "df.head()"
   ]
  },
  {
   "cell_type": "code",
   "execution_count": 15,
   "metadata": {},
   "outputs": [],
   "source": [
    "sensors.drop(columns = ['ontology', 'datasheet'], inplace = True)"
   ]
  },
  {
   "cell_type": "markdown",
   "metadata": {},
   "source": [
    "### Data Cleaning"
   ]
  },
  {
   "cell_type": "code",
   "execution_count": 16,
   "metadata": {},
   "outputs": [],
   "source": [
    "# Fix nulls in sensor data\n",
    "sensors['hrf_maxval'] = sensors.hrf_maxval.replace(np.NaN, '100000')\n",
    "sensors['hrf_minval'] = sensors.hrf_minval.replace(np.NaN, '0.0')"
   ]
  },
  {
   "cell_type": "code",
   "execution_count": 17,
   "metadata": {},
   "outputs": [],
   "source": [
    "df = pd.merge(df, sensors, left_on =['sensor', 'parameter', 'subsystem'], right_on =['sensor', 'parameter', 'subsystem'], how = 'left')"
   ]
  },
  {
   "cell_type": "code",
   "execution_count": 18,
   "metadata": {},
   "outputs": [],
   "source": [
    "# Drop rows where sensors have not picked up a reading\n",
    "df.dropna(axis = 0, subset = ['value_hrf'], inplace = True)"
   ]
  },
  {
   "cell_type": "code",
   "execution_count": 19,
   "metadata": {},
   "outputs": [],
   "source": [
    "# Image subsystem ranges and unit fixed\n",
    "df['hrf_maxval'] = df.hrf_maxval.replace(np.NaN, '100000')\n",
    "df['hrf_minval'] = df.hrf_minval.replace(np.NaN, '0')\n",
    "df['hrf_unit'] = df.hrf_unit.replace(np.NaN, 'count')"
   ]
  },
  {
   "cell_type": "code",
   "execution_count": 20,
   "metadata": {},
   "outputs": [
    {
     "data": {
      "text/plain": [
       "timestamp     0\n",
       "node_id       0\n",
       "subsystem     0\n",
       "sensor        0\n",
       "parameter     0\n",
       "value_hrf     0\n",
       "hrf_unit      0\n",
       "hrf_minval    0\n",
       "hrf_maxval    0\n",
       "dtype: int64"
      ]
     },
     "execution_count": 20,
     "metadata": {},
     "output_type": "execute_result"
    }
   ],
   "source": [
    "# No nulls\n",
    "df.isna().sum()"
   ]
  },
  {
   "cell_type": "code",
   "execution_count": 21,
   "metadata": {},
   "outputs": [
    {
     "data": {
      "text/html": [
       "<div>\n",
       "<style scoped>\n",
       "    .dataframe tbody tr th:only-of-type {\n",
       "        vertical-align: middle;\n",
       "    }\n",
       "\n",
       "    .dataframe tbody tr th {\n",
       "        vertical-align: top;\n",
       "    }\n",
       "\n",
       "    .dataframe thead th {\n",
       "        text-align: right;\n",
       "    }\n",
       "</style>\n",
       "<table border=\"1\" class=\"dataframe\">\n",
       "  <thead>\n",
       "    <tr style=\"text-align: right;\">\n",
       "      <th></th>\n",
       "      <th>timestamp</th>\n",
       "      <th>node_id</th>\n",
       "      <th>subsystem</th>\n",
       "      <th>sensor</th>\n",
       "      <th>parameter</th>\n",
       "      <th>value_hrf</th>\n",
       "      <th>hrf_unit</th>\n",
       "      <th>hrf_minval</th>\n",
       "      <th>hrf_maxval</th>\n",
       "    </tr>\n",
       "  </thead>\n",
       "  <tbody>\n",
       "    <tr>\n",
       "      <th>0</th>\n",
       "      <td>2019/02/04 00:00:01</td>\n",
       "      <td>001e0610e532</td>\n",
       "      <td>lightsense</td>\n",
       "      <td>apds_9006_020</td>\n",
       "      <td>intensity</td>\n",
       "      <td>0.241</td>\n",
       "      <td>lux</td>\n",
       "      <td>0</td>\n",
       "      <td>1000</td>\n",
       "    </tr>\n",
       "    <tr>\n",
       "      <th>1</th>\n",
       "      <td>2019/02/04 00:00:01</td>\n",
       "      <td>001e0610e532</td>\n",
       "      <td>lightsense</td>\n",
       "      <td>hih6130</td>\n",
       "      <td>humidity</td>\n",
       "      <td>41.09</td>\n",
       "      <td>RH</td>\n",
       "      <td>0</td>\n",
       "      <td>100</td>\n",
       "    </tr>\n",
       "    <tr>\n",
       "      <th>2</th>\n",
       "      <td>2019/02/04 00:00:01</td>\n",
       "      <td>001e0610e532</td>\n",
       "      <td>lightsense</td>\n",
       "      <td>hih6130</td>\n",
       "      <td>temperature</td>\n",
       "      <td>26.19</td>\n",
       "      <td>C</td>\n",
       "      <td>-25</td>\n",
       "      <td>85</td>\n",
       "    </tr>\n",
       "    <tr>\n",
       "      <th>3</th>\n",
       "      <td>2019/02/04 00:00:01</td>\n",
       "      <td>001e0610e532</td>\n",
       "      <td>lightsense</td>\n",
       "      <td>ml8511</td>\n",
       "      <td>intensity</td>\n",
       "      <td>43.638</td>\n",
       "      <td>uW/cm^2</td>\n",
       "      <td>0</td>\n",
       "      <td>15</td>\n",
       "    </tr>\n",
       "    <tr>\n",
       "      <th>4</th>\n",
       "      <td>2019/02/04 00:00:01</td>\n",
       "      <td>001e0610e532</td>\n",
       "      <td>lightsense</td>\n",
       "      <td>mlx75305</td>\n",
       "      <td>intensity</td>\n",
       "      <td>2.032</td>\n",
       "      <td>uW/cm^2</td>\n",
       "      <td>0</td>\n",
       "      <td>160</td>\n",
       "    </tr>\n",
       "  </tbody>\n",
       "</table>\n",
       "</div>"
      ],
      "text/plain": [
       "             timestamp       node_id   subsystem         sensor    parameter  \\\n",
       "0  2019/02/04 00:00:01  001e0610e532  lightsense  apds_9006_020    intensity   \n",
       "1  2019/02/04 00:00:01  001e0610e532  lightsense        hih6130     humidity   \n",
       "2  2019/02/04 00:00:01  001e0610e532  lightsense        hih6130  temperature   \n",
       "3  2019/02/04 00:00:01  001e0610e532  lightsense         ml8511    intensity   \n",
       "4  2019/02/04 00:00:01  001e0610e532  lightsense       mlx75305    intensity   \n",
       "\n",
       "  value_hrf hrf_unit hrf_minval hrf_maxval  \n",
       "0     0.241      lux          0       1000  \n",
       "1     41.09       RH          0        100  \n",
       "2     26.19        C        -25         85  \n",
       "3    43.638  uW/cm^2          0         15  \n",
       "4     2.032  uW/cm^2          0        160  "
      ]
     },
     "execution_count": 21,
     "metadata": {},
     "output_type": "execute_result"
    }
   ],
   "source": [
    "df.head()"
   ]
  },
  {
   "cell_type": "code",
   "execution_count": 22,
   "metadata": {},
   "outputs": [],
   "source": [
    "def range_checker(row):\n",
    "    if float(row['hrf_minval']) <= float(row['value_hrf']) <= float(row['hrf_maxval']):\n",
    "        return row['value_hrf']\n",
    "    else: return np.nan"
   ]
  },
  {
   "cell_type": "code",
   "execution_count": 24,
   "metadata": {},
   "outputs": [],
   "source": [
    "df['value_hrf'] = df.apply(lambda x: range_checker(x), axis = 1)"
   ]
  },
  {
   "cell_type": "code",
   "execution_count": 25,
   "metadata": {},
   "outputs": [
    {
     "data": {
      "text/plain": [
       "timestamp           0\n",
       "node_id             0\n",
       "subsystem           0\n",
       "sensor              0\n",
       "parameter           0\n",
       "value_hrf     5169678\n",
       "hrf_unit            0\n",
       "hrf_minval          0\n",
       "hrf_maxval          0\n",
       "dtype: int64"
      ]
     },
     "execution_count": 25,
     "metadata": {},
     "output_type": "execute_result"
    }
   ],
   "source": [
    "df.isna().sum()"
   ]
  },
  {
   "cell_type": "code",
   "execution_count": 26,
   "metadata": {},
   "outputs": [
    {
     "data": {
      "text/html": [
       "<div>\n",
       "<style scoped>\n",
       "    .dataframe tbody tr th:only-of-type {\n",
       "        vertical-align: middle;\n",
       "    }\n",
       "\n",
       "    .dataframe tbody tr th {\n",
       "        vertical-align: top;\n",
       "    }\n",
       "\n",
       "    .dataframe thead th {\n",
       "        text-align: right;\n",
       "    }\n",
       "</style>\n",
       "<table border=\"1\" class=\"dataframe\">\n",
       "  <thead>\n",
       "    <tr style=\"text-align: right;\">\n",
       "      <th></th>\n",
       "      <th>timestamp</th>\n",
       "      <th>node_id</th>\n",
       "      <th>subsystem</th>\n",
       "      <th>sensor</th>\n",
       "      <th>parameter</th>\n",
       "      <th>value_hrf</th>\n",
       "      <th>hrf_unit</th>\n",
       "      <th>hrf_minval</th>\n",
       "      <th>hrf_maxval</th>\n",
       "    </tr>\n",
       "  </thead>\n",
       "  <tbody>\n",
       "    <tr>\n",
       "      <th>0</th>\n",
       "      <td>2019/02/04 00:00:01</td>\n",
       "      <td>001e0610e532</td>\n",
       "      <td>lightsense</td>\n",
       "      <td>apds_9006_020</td>\n",
       "      <td>intensity</td>\n",
       "      <td>0.241</td>\n",
       "      <td>lux</td>\n",
       "      <td>0</td>\n",
       "      <td>1000</td>\n",
       "    </tr>\n",
       "    <tr>\n",
       "      <th>1</th>\n",
       "      <td>2019/02/04 00:00:01</td>\n",
       "      <td>001e0610e532</td>\n",
       "      <td>lightsense</td>\n",
       "      <td>hih6130</td>\n",
       "      <td>humidity</td>\n",
       "      <td>41.09</td>\n",
       "      <td>RH</td>\n",
       "      <td>0</td>\n",
       "      <td>100</td>\n",
       "    </tr>\n",
       "    <tr>\n",
       "      <th>2</th>\n",
       "      <td>2019/02/04 00:00:01</td>\n",
       "      <td>001e0610e532</td>\n",
       "      <td>lightsense</td>\n",
       "      <td>hih6130</td>\n",
       "      <td>temperature</td>\n",
       "      <td>26.19</td>\n",
       "      <td>C</td>\n",
       "      <td>-25</td>\n",
       "      <td>85</td>\n",
       "    </tr>\n",
       "    <tr>\n",
       "      <th>3</th>\n",
       "      <td>2019/02/04 00:00:01</td>\n",
       "      <td>001e0610e532</td>\n",
       "      <td>lightsense</td>\n",
       "      <td>ml8511</td>\n",
       "      <td>intensity</td>\n",
       "      <td>NaN</td>\n",
       "      <td>uW/cm^2</td>\n",
       "      <td>0</td>\n",
       "      <td>15</td>\n",
       "    </tr>\n",
       "    <tr>\n",
       "      <th>4</th>\n",
       "      <td>2019/02/04 00:00:01</td>\n",
       "      <td>001e0610e532</td>\n",
       "      <td>lightsense</td>\n",
       "      <td>mlx75305</td>\n",
       "      <td>intensity</td>\n",
       "      <td>2.032</td>\n",
       "      <td>uW/cm^2</td>\n",
       "      <td>0</td>\n",
       "      <td>160</td>\n",
       "    </tr>\n",
       "  </tbody>\n",
       "</table>\n",
       "</div>"
      ],
      "text/plain": [
       "             timestamp       node_id   subsystem         sensor    parameter  \\\n",
       "0  2019/02/04 00:00:01  001e0610e532  lightsense  apds_9006_020    intensity   \n",
       "1  2019/02/04 00:00:01  001e0610e532  lightsense        hih6130     humidity   \n",
       "2  2019/02/04 00:00:01  001e0610e532  lightsense        hih6130  temperature   \n",
       "3  2019/02/04 00:00:01  001e0610e532  lightsense         ml8511    intensity   \n",
       "4  2019/02/04 00:00:01  001e0610e532  lightsense       mlx75305    intensity   \n",
       "\n",
       "  value_hrf hrf_unit hrf_minval hrf_maxval  \n",
       "0     0.241      lux          0       1000  \n",
       "1     41.09       RH          0        100  \n",
       "2     26.19        C        -25         85  \n",
       "3       NaN  uW/cm^2          0         15  \n",
       "4     2.032  uW/cm^2          0        160  "
      ]
     },
     "execution_count": 26,
     "metadata": {},
     "output_type": "execute_result"
    }
   ],
   "source": [
    "df.head()"
   ]
  },
  {
   "cell_type": "code",
   "execution_count": 27,
   "metadata": {},
   "outputs": [],
   "source": [
    "df.dropna(axis = 0, subset = ['value_hrf'], inplace = True)"
   ]
  },
  {
   "cell_type": "code",
   "execution_count": 28,
   "metadata": {},
   "outputs": [],
   "source": [
    "df.to_csv('data_cleaned.csv', index = False)"
   ]
  },
  {
   "cell_type": "code",
   "execution_count": null,
   "metadata": {},
   "outputs": [],
   "source": []
  },
  {
   "cell_type": "code",
   "execution_count": null,
   "metadata": {},
   "outputs": [],
   "source": []
  }
 ],
 "metadata": {
  "kernelspec": {
   "display_name": "Python 3",
   "language": "python",
   "name": "python3"
  },
  "language_info": {
   "codemirror_mode": {
    "name": "ipython",
    "version": 3
   },
   "file_extension": ".py",
   "mimetype": "text/x-python",
   "name": "python",
   "nbconvert_exporter": "python",
   "pygments_lexer": "ipython3",
   "version": "3.7.0"
  }
 },
 "nbformat": 4,
 "nbformat_minor": 2
}
