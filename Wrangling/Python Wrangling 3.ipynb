{
 "cells": [
  {
   "cell_type": "code",
   "execution_count": 1,
   "metadata": {},
   "outputs": [],
   "source": [
    "import pandas as pd"
   ]
  },
  {
   "cell_type": "code",
   "execution_count": 2,
   "metadata": {},
   "outputs": [],
   "source": [
    "df = pd.read_csv(\"Copy of data_final.csv\")"
   ]
  },
  {
   "cell_type": "code",
   "execution_count": 3,
   "metadata": {},
   "outputs": [
    {
     "data": {
      "text/html": [
       "<div>\n",
       "<style scoped>\n",
       "    .dataframe tbody tr th:only-of-type {\n",
       "        vertical-align: middle;\n",
       "    }\n",
       "\n",
       "    .dataframe tbody tr th {\n",
       "        vertical-align: top;\n",
       "    }\n",
       "\n",
       "    .dataframe thead th {\n",
       "        text-align: right;\n",
       "    }\n",
       "</style>\n",
       "<table border=\"1\" class=\"dataframe\">\n",
       "  <thead>\n",
       "    <tr style=\"text-align: right;\">\n",
       "      <th></th>\n",
       "      <th>timestamp</th>\n",
       "      <th>node_id</th>\n",
       "      <th>parameter</th>\n",
       "      <th>hrf_unit</th>\n",
       "      <th>value_hrf</th>\n",
       "      <th>lat</th>\n",
       "      <th>lon</th>\n",
       "    </tr>\n",
       "  </thead>\n",
       "  <tbody>\n",
       "    <tr>\n",
       "      <th>0</th>\n",
       "      <td>4/02/2019 0:00</td>\n",
       "      <td>001e0610ba13</td>\n",
       "      <td>acceleration_x</td>\n",
       "      <td>mg</td>\n",
       "      <td>-0.327846</td>\n",
       "      <td>41.751238</td>\n",
       "      <td>-87.71299</td>\n",
       "    </tr>\n",
       "    <tr>\n",
       "      <th>1</th>\n",
       "      <td>4/02/2019 0:00</td>\n",
       "      <td>001e0610ba13</td>\n",
       "      <td>acceleration_y</td>\n",
       "      <td>mg</td>\n",
       "      <td>-981.336056</td>\n",
       "      <td>41.751238</td>\n",
       "      <td>-87.71299</td>\n",
       "    </tr>\n",
       "    <tr>\n",
       "      <th>2</th>\n",
       "      <td>4/02/2019 0:00</td>\n",
       "      <td>001e0610ba13</td>\n",
       "      <td>acceleration_z</td>\n",
       "      <td>mg</td>\n",
       "      <td>47.325741</td>\n",
       "      <td>41.751238</td>\n",
       "      <td>-87.71299</td>\n",
       "    </tr>\n",
       "    <tr>\n",
       "      <th>3</th>\n",
       "      <td>4/02/2019 0:00</td>\n",
       "      <td>001e0610ba13</td>\n",
       "      <td>humidity</td>\n",
       "      <td>RH</td>\n",
       "      <td>82.062938</td>\n",
       "      <td>41.751238</td>\n",
       "      <td>-87.71299</td>\n",
       "    </tr>\n",
       "    <tr>\n",
       "      <th>4</th>\n",
       "      <td>4/02/2019 0:00</td>\n",
       "      <td>001e0610ba13</td>\n",
       "      <td>intensity</td>\n",
       "      <td>dB</td>\n",
       "      <td>62.571608</td>\n",
       "      <td>41.751238</td>\n",
       "      <td>-87.71299</td>\n",
       "    </tr>\n",
       "  </tbody>\n",
       "</table>\n",
       "</div>"
      ],
      "text/plain": [
       "        timestamp       node_id       parameter hrf_unit   value_hrf  \\\n",
       "0  4/02/2019 0:00  001e0610ba13  acceleration_x       mg   -0.327846   \n",
       "1  4/02/2019 0:00  001e0610ba13  acceleration_y       mg -981.336056   \n",
       "2  4/02/2019 0:00  001e0610ba13  acceleration_z       mg   47.325741   \n",
       "3  4/02/2019 0:00  001e0610ba13        humidity       RH   82.062938   \n",
       "4  4/02/2019 0:00  001e0610ba13       intensity       dB   62.571608   \n",
       "\n",
       "         lat       lon  \n",
       "0  41.751238 -87.71299  \n",
       "1  41.751238 -87.71299  \n",
       "2  41.751238 -87.71299  \n",
       "3  41.751238 -87.71299  \n",
       "4  41.751238 -87.71299  "
      ]
     },
     "execution_count": 3,
     "metadata": {},
     "output_type": "execute_result"
    }
   ],
   "source": [
    "df.head()"
   ]
  },
  {
   "cell_type": "code",
   "execution_count": 4,
   "metadata": {},
   "outputs": [],
   "source": [
    "import shapefile\n",
    "\n",
    "sf = shapefile.Reader(\"./ComFiles/ChiComArea.shp\")\n",
    "recs = sf.records()\n",
    "shapes = sf.shapes()"
   ]
  },
  {
   "cell_type": "code",
   "execution_count": 5,
   "metadata": {},
   "outputs": [],
   "source": [
    "import shapely\n",
    "from shapely.geometry import shape, Point\n",
    "\n",
    "# Creating function to find suburb based on lat and lng from the shapefile.\n",
    "def suburb_finder(row):\n",
    "    \n",
    "    for i in range(len(shapes)):\n",
    "        \n",
    "        polygon = shape(shapes[i])    \n",
    "        point = Point(float(row['lon']), float(row['lat']))\n",
    "\n",
    "        if polygon.contains(point):\n",
    "            return(recs[i][1])\n",
    "            break"
   ]
  },
  {
   "cell_type": "code",
   "execution_count": 10,
   "metadata": {},
   "outputs": [],
   "source": [
    "df['Com'] = df.apply(lambda x: suburb_finder(x), axis = 1)"
   ]
  },
  {
   "cell_type": "code",
   "execution_count": null,
   "metadata": {},
   "outputs": [],
   "source": [
    "df.to_csv(\"final.csv\", index =False)"
   ]
  }
 ],
 "metadata": {
  "kernelspec": {
   "display_name": "Python 3",
   "language": "python",
   "name": "python3"
  },
  "language_info": {
   "codemirror_mode": {
    "name": "ipython",
    "version": 3
   },
   "file_extension": ".py",
   "mimetype": "text/x-python",
   "name": "python",
   "nbconvert_exporter": "python",
   "pygments_lexer": "ipython3",
   "version": "3.7.0"
  }
 },
 "nbformat": 4,
 "nbformat_minor": 2
}
