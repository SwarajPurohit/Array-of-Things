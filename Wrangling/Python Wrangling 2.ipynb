{
 "cells": [
  {
   "cell_type": "code",
   "execution_count": 98,
   "metadata": {},
   "outputs": [],
   "source": [
    "import gzip\n",
    "import pandas as pd\n",
    "import numpy as np\n",
    "import datetime"
   ]
  },
  {
   "cell_type": "code",
   "execution_count": 99,
   "metadata": {},
   "outputs": [],
   "source": [
    "df = pd.read_csv('data_cleaned.csv')"
   ]
  },
  {
   "cell_type": "code",
   "execution_count": 100,
   "metadata": {},
   "outputs": [
    {
     "data": {
      "text/plain": [
       "(19393788, 9)"
      ]
     },
     "execution_count": 100,
     "metadata": {},
     "output_type": "execute_result"
    }
   ],
   "source": [
    "df.shape"
   ]
  },
  {
   "cell_type": "code",
   "execution_count": 101,
   "metadata": {},
   "outputs": [
    {
     "data": {
      "text/html": [
       "<div>\n",
       "<style scoped>\n",
       "    .dataframe tbody tr th:only-of-type {\n",
       "        vertical-align: middle;\n",
       "    }\n",
       "\n",
       "    .dataframe tbody tr th {\n",
       "        vertical-align: top;\n",
       "    }\n",
       "\n",
       "    .dataframe thead th {\n",
       "        text-align: right;\n",
       "    }\n",
       "</style>\n",
       "<table border=\"1\" class=\"dataframe\">\n",
       "  <thead>\n",
       "    <tr style=\"text-align: right;\">\n",
       "      <th></th>\n",
       "      <th>timestamp</th>\n",
       "      <th>node_id</th>\n",
       "      <th>subsystem</th>\n",
       "      <th>sensor</th>\n",
       "      <th>parameter</th>\n",
       "      <th>value_hrf</th>\n",
       "      <th>hrf_unit</th>\n",
       "      <th>hrf_minval</th>\n",
       "      <th>hrf_maxval</th>\n",
       "    </tr>\n",
       "  </thead>\n",
       "  <tbody>\n",
       "    <tr>\n",
       "      <th>0</th>\n",
       "      <td>2019/02/04 00:00:01</td>\n",
       "      <td>001e0610e532</td>\n",
       "      <td>lightsense</td>\n",
       "      <td>apds_9006_020</td>\n",
       "      <td>intensity</td>\n",
       "      <td>0.241</td>\n",
       "      <td>lux</td>\n",
       "      <td>0.0</td>\n",
       "      <td>1000.0</td>\n",
       "    </tr>\n",
       "    <tr>\n",
       "      <th>1</th>\n",
       "      <td>2019/02/04 00:00:01</td>\n",
       "      <td>001e0610e532</td>\n",
       "      <td>lightsense</td>\n",
       "      <td>hih6130</td>\n",
       "      <td>humidity</td>\n",
       "      <td>41.090</td>\n",
       "      <td>RH</td>\n",
       "      <td>0.0</td>\n",
       "      <td>100.0</td>\n",
       "    </tr>\n",
       "    <tr>\n",
       "      <th>2</th>\n",
       "      <td>2019/02/04 00:00:01</td>\n",
       "      <td>001e0610e532</td>\n",
       "      <td>lightsense</td>\n",
       "      <td>hih6130</td>\n",
       "      <td>temperature</td>\n",
       "      <td>26.190</td>\n",
       "      <td>C</td>\n",
       "      <td>-25.0</td>\n",
       "      <td>85.0</td>\n",
       "    </tr>\n",
       "    <tr>\n",
       "      <th>3</th>\n",
       "      <td>2019/02/04 00:00:01</td>\n",
       "      <td>001e0610e532</td>\n",
       "      <td>lightsense</td>\n",
       "      <td>mlx75305</td>\n",
       "      <td>intensity</td>\n",
       "      <td>2.032</td>\n",
       "      <td>uW/cm^2</td>\n",
       "      <td>0.0</td>\n",
       "      <td>160.0</td>\n",
       "    </tr>\n",
       "    <tr>\n",
       "      <th>4</th>\n",
       "      <td>2019/02/04 00:00:01</td>\n",
       "      <td>001e0610e532</td>\n",
       "      <td>lightsense</td>\n",
       "      <td>tmp421</td>\n",
       "      <td>temperature</td>\n",
       "      <td>23.590</td>\n",
       "      <td>C</td>\n",
       "      <td>-55.0</td>\n",
       "      <td>127.0</td>\n",
       "    </tr>\n",
       "  </tbody>\n",
       "</table>\n",
       "</div>"
      ],
      "text/plain": [
       "             timestamp       node_id   subsystem         sensor    parameter  \\\n",
       "0  2019/02/04 00:00:01  001e0610e532  lightsense  apds_9006_020    intensity   \n",
       "1  2019/02/04 00:00:01  001e0610e532  lightsense        hih6130     humidity   \n",
       "2  2019/02/04 00:00:01  001e0610e532  lightsense        hih6130  temperature   \n",
       "3  2019/02/04 00:00:01  001e0610e532  lightsense       mlx75305    intensity   \n",
       "4  2019/02/04 00:00:01  001e0610e532  lightsense         tmp421  temperature   \n",
       "\n",
       "   value_hrf hrf_unit  hrf_minval  hrf_maxval  \n",
       "0      0.241      lux         0.0      1000.0  \n",
       "1     41.090       RH         0.0       100.0  \n",
       "2     26.190        C       -25.0        85.0  \n",
       "3      2.032  uW/cm^2         0.0       160.0  \n",
       "4     23.590        C       -55.0       127.0  "
      ]
     },
     "execution_count": 101,
     "metadata": {},
     "output_type": "execute_result"
    }
   ],
   "source": [
    "df.head()"
   ]
  },
  {
   "cell_type": "code",
   "execution_count": 105,
   "metadata": {},
   "outputs": [],
   "source": [
    "def conc_fixer(row):\n",
    "    if row['parameter'] == 'concentration':\n",
    "        return row['sensor']\n",
    "    else:\n",
    "        return row['parameter']"
   ]
  },
  {
   "cell_type": "code",
   "execution_count": 106,
   "metadata": {},
   "outputs": [],
   "source": [
    "df['parameter'] = df.apply(lambda x : conc_fixer(x), axis = 1)\n",
    "    "
   ]
  },
  {
   "cell_type": "code",
   "execution_count": 107,
   "metadata": {},
   "outputs": [],
   "source": [
    "df.drop(columns = ['hrf_minval', 'hrf_maxval'], inplace = True)"
   ]
  },
  {
   "cell_type": "code",
   "execution_count": 108,
   "metadata": {},
   "outputs": [],
   "source": [
    "df = df.groupby(by = ['timestamp', 'node_id','parameter','hrf_unit']).mean().reset_index()"
   ]
  },
  {
   "cell_type": "code",
   "execution_count": 109,
   "metadata": {},
   "outputs": [
    {
     "data": {
      "text/html": [
       "<div>\n",
       "<style scoped>\n",
       "    .dataframe tbody tr th:only-of-type {\n",
       "        vertical-align: middle;\n",
       "    }\n",
       "\n",
       "    .dataframe tbody tr th {\n",
       "        vertical-align: top;\n",
       "    }\n",
       "\n",
       "    .dataframe thead th {\n",
       "        text-align: right;\n",
       "    }\n",
       "</style>\n",
       "<table border=\"1\" class=\"dataframe\">\n",
       "  <thead>\n",
       "    <tr style=\"text-align: right;\">\n",
       "      <th></th>\n",
       "      <th>timestamp</th>\n",
       "      <th>node_id</th>\n",
       "      <th>parameter</th>\n",
       "      <th>hrf_unit</th>\n",
       "      <th>value_hrf</th>\n",
       "    </tr>\n",
       "  </thead>\n",
       "  <tbody>\n",
       "    <tr>\n",
       "      <th>0</th>\n",
       "      <td>2019/02/04 00:00:01</td>\n",
       "      <td>001e0610e532</td>\n",
       "      <td>humidity</td>\n",
       "      <td>RH</td>\n",
       "      <td>60.093333</td>\n",
       "    </tr>\n",
       "    <tr>\n",
       "      <th>1</th>\n",
       "      <td>2019/02/04 00:00:01</td>\n",
       "      <td>001e0610e532</td>\n",
       "      <td>intensity</td>\n",
       "      <td>lux</td>\n",
       "      <td>0.241000</td>\n",
       "    </tr>\n",
       "    <tr>\n",
       "      <th>2</th>\n",
       "      <td>2019/02/04 00:00:01</td>\n",
       "      <td>001e0610e532</td>\n",
       "      <td>intensity</td>\n",
       "      <td>uW/cm^2</td>\n",
       "      <td>0.570000</td>\n",
       "    </tr>\n",
       "    <tr>\n",
       "      <th>3</th>\n",
       "      <td>2019/02/04 00:00:01</td>\n",
       "      <td>001e0610e532</td>\n",
       "      <td>pressure</td>\n",
       "      <td>hPa</td>\n",
       "      <td>992.930000</td>\n",
       "    </tr>\n",
       "    <tr>\n",
       "      <th>4</th>\n",
       "      <td>2019/02/04 00:00:01</td>\n",
       "      <td>001e0610e532</td>\n",
       "      <td>temperature</td>\n",
       "      <td>C</td>\n",
       "      <td>16.155714</td>\n",
       "    </tr>\n",
       "  </tbody>\n",
       "</table>\n",
       "</div>"
      ],
      "text/plain": [
       "             timestamp       node_id    parameter hrf_unit   value_hrf\n",
       "0  2019/02/04 00:00:01  001e0610e532     humidity       RH   60.093333\n",
       "1  2019/02/04 00:00:01  001e0610e532    intensity      lux    0.241000\n",
       "2  2019/02/04 00:00:01  001e0610e532    intensity  uW/cm^2    0.570000\n",
       "3  2019/02/04 00:00:01  001e0610e532     pressure      hPa  992.930000\n",
       "4  2019/02/04 00:00:01  001e0610e532  temperature        C   16.155714"
      ]
     },
     "execution_count": 109,
     "metadata": {},
     "output_type": "execute_result"
    }
   ],
   "source": [
    "df.head()"
   ]
  },
  {
   "cell_type": "code",
   "execution_count": 110,
   "metadata": {},
   "outputs": [],
   "source": [
    "df['timestamp'] = df['timestamp'].apply(lambda x: datetime.datetime.strptime(x, \"%Y/%m/%d %H:%M:%S\"))"
   ]
  },
  {
   "cell_type": "code",
   "execution_count": 111,
   "metadata": {},
   "outputs": [],
   "source": [
    "df.set_index('timestamp', inplace = True)"
   ]
  },
  {
   "cell_type": "code",
   "execution_count": 112,
   "metadata": {},
   "outputs": [
    {
     "data": {
      "text/html": [
       "<div>\n",
       "<style scoped>\n",
       "    .dataframe tbody tr th:only-of-type {\n",
       "        vertical-align: middle;\n",
       "    }\n",
       "\n",
       "    .dataframe tbody tr th {\n",
       "        vertical-align: top;\n",
       "    }\n",
       "\n",
       "    .dataframe thead th {\n",
       "        text-align: right;\n",
       "    }\n",
       "</style>\n",
       "<table border=\"1\" class=\"dataframe\">\n",
       "  <thead>\n",
       "    <tr style=\"text-align: right;\">\n",
       "      <th></th>\n",
       "      <th>node_id</th>\n",
       "      <th>parameter</th>\n",
       "      <th>hrf_unit</th>\n",
       "      <th>value_hrf</th>\n",
       "    </tr>\n",
       "    <tr>\n",
       "      <th>timestamp</th>\n",
       "      <th></th>\n",
       "      <th></th>\n",
       "      <th></th>\n",
       "      <th></th>\n",
       "    </tr>\n",
       "  </thead>\n",
       "  <tbody>\n",
       "    <tr>\n",
       "      <th>2019-02-04 00:00:01</th>\n",
       "      <td>001e0610e532</td>\n",
       "      <td>humidity</td>\n",
       "      <td>RH</td>\n",
       "      <td>60.093333</td>\n",
       "    </tr>\n",
       "    <tr>\n",
       "      <th>2019-02-04 00:00:01</th>\n",
       "      <td>001e0610e532</td>\n",
       "      <td>intensity</td>\n",
       "      <td>lux</td>\n",
       "      <td>0.241000</td>\n",
       "    </tr>\n",
       "    <tr>\n",
       "      <th>2019-02-04 00:00:01</th>\n",
       "      <td>001e0610e532</td>\n",
       "      <td>intensity</td>\n",
       "      <td>uW/cm^2</td>\n",
       "      <td>0.570000</td>\n",
       "    </tr>\n",
       "    <tr>\n",
       "      <th>2019-02-04 00:00:01</th>\n",
       "      <td>001e0610e532</td>\n",
       "      <td>pressure</td>\n",
       "      <td>hPa</td>\n",
       "      <td>992.930000</td>\n",
       "    </tr>\n",
       "    <tr>\n",
       "      <th>2019-02-04 00:00:01</th>\n",
       "      <td>001e0610e532</td>\n",
       "      <td>temperature</td>\n",
       "      <td>C</td>\n",
       "      <td>16.155714</td>\n",
       "    </tr>\n",
       "  </tbody>\n",
       "</table>\n",
       "</div>"
      ],
      "text/plain": [
       "                          node_id    parameter hrf_unit   value_hrf\n",
       "timestamp                                                          \n",
       "2019-02-04 00:00:01  001e0610e532     humidity       RH   60.093333\n",
       "2019-02-04 00:00:01  001e0610e532    intensity      lux    0.241000\n",
       "2019-02-04 00:00:01  001e0610e532    intensity  uW/cm^2    0.570000\n",
       "2019-02-04 00:00:01  001e0610e532     pressure      hPa  992.930000\n",
       "2019-02-04 00:00:01  001e0610e532  temperature        C   16.155714"
      ]
     },
     "execution_count": 112,
     "metadata": {},
     "output_type": "execute_result"
    }
   ],
   "source": [
    "df.head()"
   ]
  },
  {
   "cell_type": "code",
   "execution_count": 113,
   "metadata": {},
   "outputs": [],
   "source": [
    "df1 = df[df['hrf_unit'] != 'count']\n",
    "df2 = df[df['hrf_unit'] == 'count']"
   ]
  },
  {
   "cell_type": "code",
   "execution_count": 114,
   "metadata": {},
   "outputs": [],
   "source": [
    "df1 = df1.groupby([df1.index.day, df1.index.hour, 'node_id', 'parameter', 'hrf_unit']).mean()\n",
    "df2 = df2.groupby([df2.index.day, df2.index.hour, 'node_id', 'parameter', 'hrf_unit']).sum()"
   ]
  },
  {
   "cell_type": "code",
   "execution_count": 115,
   "metadata": {},
   "outputs": [],
   "source": [
    "df1.reset_index(level=[2,3,4], inplace = True)\n",
    "df2.reset_index(level=[2,3,4], inplace = True)"
   ]
  },
  {
   "cell_type": "code",
   "execution_count": 116,
   "metadata": {},
   "outputs": [],
   "source": [
    "df1.reset_index(level= 1, inplace = True)\n",
    "df2.reset_index(level= 1, inplace = True)"
   ]
  },
  {
   "cell_type": "code",
   "execution_count": 117,
   "metadata": {},
   "outputs": [],
   "source": [
    " df = pd.concat([df1, df2])"
   ]
  },
  {
   "cell_type": "code",
   "execution_count": 118,
   "metadata": {},
   "outputs": [],
   "source": [
    "df.index = df.index.map(lambda x: '2019-02-'+str(x) if len(str(x)) > 1 else '2019-02-0'+str(x))"
   ]
  },
  {
   "cell_type": "code",
   "execution_count": 119,
   "metadata": {},
   "outputs": [],
   "source": [
    "df.columns = ['hour', 'node_id', 'parameter', 'hrf_unit', 'value_hrf']"
   ]
  },
  {
   "cell_type": "code",
   "execution_count": 126,
   "metadata": {},
   "outputs": [
    {
     "data": {
      "text/html": [
       "<div>\n",
       "<style scoped>\n",
       "    .dataframe tbody tr th:only-of-type {\n",
       "        vertical-align: middle;\n",
       "    }\n",
       "\n",
       "    .dataframe tbody tr th {\n",
       "        vertical-align: top;\n",
       "    }\n",
       "\n",
       "    .dataframe thead th {\n",
       "        text-align: right;\n",
       "    }\n",
       "</style>\n",
       "<table border=\"1\" class=\"dataframe\">\n",
       "  <thead>\n",
       "    <tr style=\"text-align: right;\">\n",
       "      <th></th>\n",
       "      <th>date</th>\n",
       "      <th>hour</th>\n",
       "      <th>node_id</th>\n",
       "      <th>parameter</th>\n",
       "      <th>hrf_unit</th>\n",
       "      <th>value_hrf</th>\n",
       "    </tr>\n",
       "  </thead>\n",
       "  <tbody>\n",
       "    <tr>\n",
       "      <th>79891</th>\n",
       "      <td>2019-02-10</td>\n",
       "      <td>21</td>\n",
       "      <td>001e0610ba46</td>\n",
       "      <td>person_total</td>\n",
       "      <td>count</td>\n",
       "      <td>35.0</td>\n",
       "    </tr>\n",
       "    <tr>\n",
       "      <th>79892</th>\n",
       "      <td>2019-02-10</td>\n",
       "      <td>22</td>\n",
       "      <td>001e0610ba46</td>\n",
       "      <td>car_total</td>\n",
       "      <td>count</td>\n",
       "      <td>0.0</td>\n",
       "    </tr>\n",
       "    <tr>\n",
       "      <th>79893</th>\n",
       "      <td>2019-02-10</td>\n",
       "      <td>22</td>\n",
       "      <td>001e0610ba46</td>\n",
       "      <td>person_total</td>\n",
       "      <td>count</td>\n",
       "      <td>13.0</td>\n",
       "    </tr>\n",
       "    <tr>\n",
       "      <th>79894</th>\n",
       "      <td>2019-02-10</td>\n",
       "      <td>23</td>\n",
       "      <td>001e0610ba46</td>\n",
       "      <td>car_total</td>\n",
       "      <td>count</td>\n",
       "      <td>0.0</td>\n",
       "    </tr>\n",
       "    <tr>\n",
       "      <th>79895</th>\n",
       "      <td>2019-02-10</td>\n",
       "      <td>23</td>\n",
       "      <td>001e0610ba46</td>\n",
       "      <td>person_total</td>\n",
       "      <td>count</td>\n",
       "      <td>98.0</td>\n",
       "    </tr>\n",
       "  </tbody>\n",
       "</table>\n",
       "</div>"
      ],
      "text/plain": [
       "             date  hour       node_id     parameter hrf_unit  value_hrf\n",
       "79891  2019-02-10    21  001e0610ba46  person_total    count       35.0\n",
       "79892  2019-02-10    22  001e0610ba46     car_total    count        0.0\n",
       "79893  2019-02-10    22  001e0610ba46  person_total    count       13.0\n",
       "79894  2019-02-10    23  001e0610ba46     car_total    count        0.0\n",
       "79895  2019-02-10    23  001e0610ba46  person_total    count       98.0"
      ]
     },
     "execution_count": 126,
     "metadata": {},
     "output_type": "execute_result"
    }
   ],
   "source": [
    "df.tail()"
   ]
  },
  {
   "cell_type": "code",
   "execution_count": 121,
   "metadata": {},
   "outputs": [],
   "source": [
    "df.reset_index(level= 0, inplace = True)"
   ]
  },
  {
   "cell_type": "code",
   "execution_count": 122,
   "metadata": {},
   "outputs": [],
   "source": [
    "df.columns = ['date', 'hour', 'node_id', 'parameter', 'hrf_unit', 'value_hrf']"
   ]
  },
  {
   "cell_type": "code",
   "execution_count": 123,
   "metadata": {},
   "outputs": [],
   "source": [
    "df.to_csv('data_cleaned_aggregated.csv')"
   ]
  },
  {
   "cell_type": "code",
   "execution_count": 127,
   "metadata": {},
   "outputs": [
    {
     "data": {
      "text/plain": [
       "(79896, 6)"
      ]
     },
     "execution_count": 127,
     "metadata": {},
     "output_type": "execute_result"
    }
   ],
   "source": [
    "df.shape"
   ]
  },
  {
   "cell_type": "code",
   "execution_count": null,
   "metadata": {},
   "outputs": [],
   "source": []
  }
 ],
 "metadata": {
  "kernelspec": {
   "display_name": "Python 3",
   "language": "python",
   "name": "python3"
  },
  "language_info": {
   "codemirror_mode": {
    "name": "ipython",
    "version": 3
   },
   "file_extension": ".py",
   "mimetype": "text/x-python",
   "name": "python",
   "nbconvert_exporter": "python",
   "pygments_lexer": "ipython3",
   "version": "3.7.0"
  }
 },
 "nbformat": 4,
 "nbformat_minor": 2
}
